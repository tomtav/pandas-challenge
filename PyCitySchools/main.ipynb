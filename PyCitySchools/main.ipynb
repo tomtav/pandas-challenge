{
 "nbformat": 4,
 "nbformat_minor": 2,
 "metadata": {
  "language_info": {
   "name": "python",
   "codemirror_mode": {
    "name": "ipython",
    "version": 3
   },
   "version": "3.7.6-final"
  },
  "orig_nbformat": 2,
  "file_extension": ".py",
  "mimetype": "text/x-python",
  "name": "python",
  "npconvert_exporter": "python",
  "pygments_lexer": "ipython3",
  "version": 3,
  "kernelspec": {
   "name": "python38164bitpythondatacondacc8ceeb9c81b4f278d2dfe7d00c771b3",
   "display_name": "Python 3.8.1 64-bit ('PythonData': conda)"
  }
 },
 "cells": [
  {
   "cell_type": "code",
   "execution_count": 2,
   "metadata": {},
   "outputs": [],
   "source": [
    "# import modules\n",
    "import pandas as pd"
   ]
  },
  {
   "cell_type": "code",
   "execution_count": 4,
   "metadata": {},
   "outputs": [],
   "source": [
    "# declare files to load\n",
    "school_data_to_load = 'Resources/schools_complete.csv'\n",
    "student_data_to_load = 'Resources/students_complete.csv'"
   ]
  },
  {
   "cell_type": "code",
   "execution_count": 5,
   "metadata": {},
   "outputs": [],
   "source": [
    "# read School and Student Data File and store into Pandas Data Frames\n",
    "school_data = pd.read_csv(school_data_to_load, encoding='utf-8')\n",
    "student_data = pd.read_csv(student_data_to_load, encoding='utf-8')"
   ]
  },
  {
   "cell_type": "code",
   "execution_count": 6,
   "metadata": {},
   "outputs": [],
   "source": [
    "# Combine the data into a single dataset\n",
    "school_data_complete = pd.merge(student_data, school_data, how=\"left\", on=[\"school_name\", \"school_name\"])"
   ]
  },
  {
   "cell_type": "code",
   "execution_count": 7,
   "metadata": {},
   "outputs": [
    {
     "data": {
      "text/plain": "(39170, 11)"
     },
     "execution_count": 7,
     "metadata": {},
     "output_type": "execute_result"
    }
   ],
   "source": [
    "# display shape of schools dataframe\n",
    "school_data_complete.shape"
   ]
  },
  {
   "cell_type": "code",
   "execution_count": 8,
   "metadata": {},
   "outputs": [
    {
     "data": {
      "text/plain": "['Student ID',\n 'student_name',\n 'gender',\n 'grade',\n 'school_name',\n 'reading_score',\n 'math_score',\n 'School ID',\n 'type',\n 'size',\n 'budget']"
     },
     "execution_count": 8,
     "metadata": {},
     "output_type": "execute_result"
    }
   ],
   "source": [
    "# list columns of schools dataframe\n",
    "list(school_data_complete.columns)"
   ]
  },
  {
   "cell_type": "code",
   "execution_count": 9,
   "metadata": {},
   "outputs": [],
   "source": [
    "# District Summary\n",
    "\n",
    "# total schools\n",
    "list_of_schools = school_data_complete['school_name'].unique()\n",
    "districtSchools = len(list_of_schools)\n",
    "\n",
    "# total students\n",
    "districtStudents = len(school_data_complete)\n",
    "\n",
    "# total budget\n",
    "districtBudget = school_data_complete[['school_name','budget']].drop_duplicates()['budget'].sum()\n",
    "\n",
    "# average math score\n",
    "districtAvgMath = school_data_complete['math_score'].mean()\n",
    "\n",
    "# average reading score\n",
    "districtAvgRead = school_data_complete['reading_score'].mean()"
   ]
  },
  {
   "cell_type": "code",
   "execution_count": 11,
   "metadata": {},
   "outputs": [],
   "source": [
    "# percent passing math\n",
    "passingScore = 70\n",
    "cond = (school_data_complete['math_score'] >= passingScore)\n",
    "districtPctPassMath = len(school_data_complete[cond])/districtStudents * 100\n",
    "\n",
    "# percent passing reading\n",
    "cond = (school_data_complete['reading_score'] >= passingScore)\n",
    "districtPctPassRead = len(school_data_complete[cond])/districtStudents * 100\n",
    "\n",
    "# percent overall passing rate\n",
    "districtPctPassRate = (districtPctPassMath+districtPctPassRead)/2 * 100\n"
   ]
  },
  {
   "cell_type": "code",
   "execution_count": 12,
   "metadata": {},
   "outputs": [
    {
     "name": "stdout",
     "output_type": "stream",
     "text": "District Summary\n-----------------------\nTotal Schools: 15\nTotal Students: 39170\nTotal Budget: 24649428\nAverage Math Score: 78.98537145774827\nAverage Reading Score: 81.87784018381414\n% Passing Math: 74.9808526933878\n% Passing Reading: 85.80546336482001\n% Overall Passing Rate: 8039.3158029103915\n\n"
    }
   ],
   "source": [
    "print('    District Summary')\n",
    "print('-----------------------')\n",
    "print(f'Total Schools: {districtSchools}')\n",
    "print(f'Total Students: {districtStudents}')\n",
    "print(f'Total Budget: {districtBudget}')\n",
    "print(f'Average Math Score: {districtAvgMath}')\n",
    "print(f'Average Reading Score: {districtAvgRead}')\n",
    "print(f'% Passing Math: {districtPctPassMath}')\n",
    "print(f'% Passing Reading: {districtPctPassRead}')\n",
    "print(f'% Overall Passing Rate: { districtPctPassRate}')\n",
    "print()"
   ]
  },
  {
   "cell_type": "code",
   "execution_count": 13,
   "metadata": {},
   "outputs": [],
   "source": [
    "# prepare `District Summary` data\n",
    "\n",
    "labels = [\n",
    "    'Total Schools',\n",
    "    'Total Students',\n",
    "    'Total Budget',\n",
    "    'Average Math Score',\n",
    "    'Average Reading Score',\n",
    "    '% Passing Math',\n",
    "    '% Passing Reading',\n",
    "    '% Overall Passing Rate'\n",
    "]\n",
    "\n",
    "summary = [[\n",
    "    districtSchools,\n",
    "    districtStudents,\n",
    "    districtBudget,\n",
    "    districtAvgMath,\n",
    "    districtAvgRead,\n",
    "    districtPctPassMath*100,\n",
    "    districtPctPassRead*100,\n",
    "    (districtPctPassMath+districtPctPassRead)/2 * 100\n",
    "]]\n"
   ]
  },
  {
   "cell_type": "markdown",
   "execution_count": null,
   "metadata": {},
   "outputs": [],
   "source": [
    "## District Summary"
   ]
  },
  {
   "cell_type": "code",
   "execution_count": 14,
   "metadata": {},
   "outputs": [
    {
     "data": {
      "text/html": "<div>\n<style scoped>\n    .dataframe tbody tr th:only-of-type {\n        vertical-align: middle;\n    }\n\n    .dataframe tbody tr th {\n        vertical-align: top;\n    }\n\n    .dataframe thead th {\n        text-align: right;\n    }\n</style>\n<table border=\"1\" class=\"dataframe\">\n  <thead>\n    <tr style=\"text-align: right;\">\n      <th></th>\n      <th>Total Schools</th>\n      <th>Total Students</th>\n      <th>Total Budget</th>\n      <th>Average Math Score</th>\n      <th>Average Reading Score</th>\n      <th>% Passing Math</th>\n      <th>% Passing Reading</th>\n      <th>% Overall Passing Rate</th>\n    </tr>\n  </thead>\n  <tbody>\n    <tr>\n      <th>0</th>\n      <td>15</td>\n      <td>39,170</td>\n      <td>$24,649,428.00</td>\n      <td>78.985371</td>\n      <td>81.87784</td>\n      <td>7498.085269</td>\n      <td>8580.546336</td>\n      <td>8039.315803</td>\n    </tr>\n  </tbody>\n</table>\n</div>",
      "text/plain": "   Total Schools Total Students    Total Budget  Average Math Score  \\\n0             15         39,170  $24,649,428.00           78.985371   \n\n   Average Reading Score  % Passing Math  % Passing Reading  \\\n0               81.87784     7498.085269        8580.546336   \n\n   % Overall Passing Rate  \n0             8039.315803  "
     },
     "execution_count": 14,
     "metadata": {},
     "output_type": "execute_result"
    }
   ],
   "source": [
    "district = pd.DataFrame(summary, columns=labels)\n",
    "district['Total Students'] = district['Total Students'].map('{:,}'.format)\n",
    "district['Total Budget'] = district['Total Budget'].map('${:,.2f}'.format)\n",
    "district.head()"
   ]
  },
  {
   "cell_type": "code",
   "execution_count": 15,
   "metadata": {},
   "outputs": [],
   "source": [
    "# prepare schools summary data\n",
    "\n",
    "labels = [\n",
    "    'School Type',\n",
    "    'Total Students',\n",
    "    'Total School Budget',\n",
    "    'Per Student Budget',\n",
    "    'Average Math Score',\n",
    "    'Average Reading Score',\n",
    "    '% Passing Math',\n",
    "    '% Passing Reading',\n",
    "    '% Overall Passing Rate'\n",
    "]\n",
    "\n",
    "schools_summary = pd.DataFrame(index=list_of_schools)\n",
    "schools_summary['School Type'] = school_data_complete.groupby('school_name')['type'].first()\n",
    "\n",
    "schools_summary['Total Students'] = school_data_complete.groupby('school_name')['student_name'].count()\n",
    "\n",
    "schools_summary['Total School Budget'] = school_data_complete[['school_name','budget']].drop_duplicates().groupby('school_name')['budget'].sum()\n",
    "\n",
    "schools_summary['Per Student Budget'] = school_data_complete[['school_name','budget']].drop_duplicates().groupby('school_name')['budget'].sum() / school_data_complete.groupby('school_name')['student_name'].count()\n",
    "\n",
    "schools_summary['Average Math Score'] = school_data_complete.groupby('school_name')['math_score'].mean()\n",
    "\n",
    "schools_summary['Average Reading Score'] = school_data_complete.groupby('school_name')['reading_score'].mean()\n",
    "\n",
    "\n",
    "# percent passing math\n",
    "passingScore = 70\n",
    "\n",
    "cond = (school_data_complete['math_score'] >= passingScore)\n",
    "\n",
    "schools_summary['% Passing Math'] = school_data_complete[cond].groupby('school_name')['math_score'].count() / school_data_complete.groupby('school_name')['student_name'].count() * 100\n",
    "\n",
    "# percent passing reading\n",
    "cond = (school_data_complete['reading_score'] >= passingScore)\n",
    "\n",
    "schools_summary['% Passing Reading'] = school_data_complete[cond].groupby('school_name')['reading_score'].count() / school_data_complete.groupby('school_name')['student_name'].count() * 100\n",
    "\n",
    "# percent overall passing rate\n",
    "schools_summary['% Overall Passing Rate'] = (schools_summary['% Passing Math']+schools_summary['% Passing Reading'])/2\n"
   ]
  },
  {
   "cell_type": "markdown",
   "execution_count": null,
   "metadata": {},
   "outputs": [],
   "source": [
    "## Top Performing Schools (By Passing Rate)"
   ]
  },
  {
   "cell_type": "code",
   "execution_count": 16,
   "metadata": {},
   "outputs": [
    {
     "data": {
      "text/html": "<div>\n<style scoped>\n    .dataframe tbody tr th:only-of-type {\n        vertical-align: middle;\n    }\n\n    .dataframe tbody tr th {\n        vertical-align: top;\n    }\n\n    .dataframe thead th {\n        text-align: right;\n    }\n</style>\n<table border=\"1\" class=\"dataframe\">\n  <thead>\n    <tr style=\"text-align: right;\">\n      <th></th>\n      <th>School Type</th>\n      <th>Total Students</th>\n      <th>Total School Budget</th>\n      <th>Per Student Budget</th>\n      <th>Average Math Score</th>\n      <th>Average Reading Score</th>\n      <th>% Passing Math</th>\n      <th>% Passing Reading</th>\n      <th>% Overall Passing Rate</th>\n    </tr>\n  </thead>\n  <tbody>\n    <tr>\n      <th>Cabrera High School</th>\n      <td>Charter</td>\n      <td>1858</td>\n      <td>$1,081,356.00</td>\n      <td>$582.00</td>\n      <td>83.061895</td>\n      <td>83.975780</td>\n      <td>94.133477</td>\n      <td>97.039828</td>\n      <td>95.586652</td>\n    </tr>\n    <tr>\n      <th>Thomas High School</th>\n      <td>Charter</td>\n      <td>1635</td>\n      <td>$1,043,130.00</td>\n      <td>$638.00</td>\n      <td>83.418349</td>\n      <td>83.848930</td>\n      <td>93.272171</td>\n      <td>97.308869</td>\n      <td>95.290520</td>\n    </tr>\n    <tr>\n      <th>Pena High School</th>\n      <td>Charter</td>\n      <td>962</td>\n      <td>$585,858.00</td>\n      <td>$609.00</td>\n      <td>83.839917</td>\n      <td>84.044699</td>\n      <td>94.594595</td>\n      <td>95.945946</td>\n      <td>95.270270</td>\n    </tr>\n    <tr>\n      <th>Griffin High School</th>\n      <td>Charter</td>\n      <td>1468</td>\n      <td>$917,500.00</td>\n      <td>$625.00</td>\n      <td>83.351499</td>\n      <td>83.816757</td>\n      <td>93.392371</td>\n      <td>97.138965</td>\n      <td>95.265668</td>\n    </tr>\n    <tr>\n      <th>Wilson High School</th>\n      <td>Charter</td>\n      <td>2283</td>\n      <td>$1,319,574.00</td>\n      <td>$578.00</td>\n      <td>83.274201</td>\n      <td>83.989488</td>\n      <td>93.867718</td>\n      <td>96.539641</td>\n      <td>95.203679</td>\n    </tr>\n  </tbody>\n</table>\n</div>",
      "text/plain": "                    School Type  Total Students Total School Budget  \\\nCabrera High School     Charter            1858       $1,081,356.00   \nThomas High School      Charter            1635       $1,043,130.00   \nPena High School        Charter             962         $585,858.00   \nGriffin High School     Charter            1468         $917,500.00   \nWilson High School      Charter            2283       $1,319,574.00   \n\n                    Per Student Budget  Average Math Score  \\\nCabrera High School            $582.00           83.061895   \nThomas High School             $638.00           83.418349   \nPena High School               $609.00           83.839917   \nGriffin High School            $625.00           83.351499   \nWilson High School             $578.00           83.274201   \n\n                     Average Reading Score  % Passing Math  % Passing Reading  \\\nCabrera High School              83.975780       94.133477          97.039828   \nThomas High School               83.848930       93.272171          97.308869   \nPena High School                 84.044699       94.594595          95.945946   \nGriffin High School              83.816757       93.392371          97.138965   \nWilson High School               83.989488       93.867718          96.539641   \n\n                     % Overall Passing Rate  \nCabrera High School               95.586652  \nThomas High School                95.290520  \nPena High School                  95.270270  \nGriffin High School               95.265668  \nWilson High School                95.203679  "
     },
     "execution_count": 16,
     "metadata": {},
     "output_type": "execute_result"
    }
   ],
   "source": [
    "top_schools = schools_summary.sort_values('% Overall Passing Rate', ascending=False)\n",
    "\n",
    "top_schools['Total School Budget'] = schools_summary['Total School Budget'].map(\"${:,.2f}\".format)\n",
    "top_schools['Per Student Budget'] = schools_summary['Per Student Budget'].map(\"${:,.2f}\".format)\n",
    "\n",
    "top_schools.head(5)"
   ]
  },
  {
   "cell_type": "markdown",
   "execution_count": null,
   "metadata": {},
   "outputs": [],
   "source": [
    "## Bottom Performing Schools (By Passing Rate)"
   ]
  },
  {
   "cell_type": "code",
   "execution_count": 17,
   "metadata": {},
   "outputs": [
    {
     "data": {
      "text/html": "<div>\n<style scoped>\n    .dataframe tbody tr th:only-of-type {\n        vertical-align: middle;\n    }\n\n    .dataframe tbody tr th {\n        vertical-align: top;\n    }\n\n    .dataframe thead th {\n        text-align: right;\n    }\n</style>\n<table border=\"1\" class=\"dataframe\">\n  <thead>\n    <tr style=\"text-align: right;\">\n      <th></th>\n      <th>School Type</th>\n      <th>Total Students</th>\n      <th>Total School Budget</th>\n      <th>Per Student Budget</th>\n      <th>Average Math Score</th>\n      <th>Average Reading Score</th>\n      <th>% Passing Math</th>\n      <th>% Passing Reading</th>\n      <th>% Overall Passing Rate</th>\n    </tr>\n  </thead>\n  <tbody>\n    <tr>\n      <th>Rodriguez High School</th>\n      <td>District</td>\n      <td>3999</td>\n      <td>$2,547,363.00</td>\n      <td>$637.00</td>\n      <td>76.842711</td>\n      <td>80.744686</td>\n      <td>66.366592</td>\n      <td>80.220055</td>\n      <td>73.293323</td>\n    </tr>\n    <tr>\n      <th>Figueroa High School</th>\n      <td>District</td>\n      <td>2949</td>\n      <td>$1,884,411.00</td>\n      <td>$639.00</td>\n      <td>76.711767</td>\n      <td>81.158020</td>\n      <td>65.988471</td>\n      <td>80.739234</td>\n      <td>73.363852</td>\n    </tr>\n    <tr>\n      <th>Huang High School</th>\n      <td>District</td>\n      <td>2917</td>\n      <td>$1,910,635.00</td>\n      <td>$655.00</td>\n      <td>76.629414</td>\n      <td>81.182722</td>\n      <td>65.683922</td>\n      <td>81.316421</td>\n      <td>73.500171</td>\n    </tr>\n    <tr>\n      <th>Johnson High School</th>\n      <td>District</td>\n      <td>4761</td>\n      <td>$3,094,650.00</td>\n      <td>$650.00</td>\n      <td>77.072464</td>\n      <td>80.966394</td>\n      <td>66.057551</td>\n      <td>81.222432</td>\n      <td>73.639992</td>\n    </tr>\n    <tr>\n      <th>Ford High School</th>\n      <td>District</td>\n      <td>2739</td>\n      <td>$1,763,916.00</td>\n      <td>$644.00</td>\n      <td>77.102592</td>\n      <td>80.746258</td>\n      <td>68.309602</td>\n      <td>79.299014</td>\n      <td>73.804308</td>\n    </tr>\n  </tbody>\n</table>\n</div>",
      "text/plain": "                      School Type  Total Students Total School Budget  \\\nRodriguez High School    District            3999       $2,547,363.00   \nFigueroa High School     District            2949       $1,884,411.00   \nHuang High School        District            2917       $1,910,635.00   \nJohnson High School      District            4761       $3,094,650.00   \nFord High School         District            2739       $1,763,916.00   \n\n                      Per Student Budget  Average Math Score  \\\nRodriguez High School            $637.00           76.842711   \nFigueroa High School             $639.00           76.711767   \nHuang High School                $655.00           76.629414   \nJohnson High School              $650.00           77.072464   \nFord High School                 $644.00           77.102592   \n\n                       Average Reading Score  % Passing Math  \\\nRodriguez High School              80.744686       66.366592   \nFigueroa High School               81.158020       65.988471   \nHuang High School                  81.182722       65.683922   \nJohnson High School                80.966394       66.057551   \nFord High School                   80.746258       68.309602   \n\n                       % Passing Reading  % Overall Passing Rate  \nRodriguez High School          80.220055               73.293323  \nFigueroa High School           80.739234               73.363852  \nHuang High School              81.316421               73.500171  \nJohnson High School            81.222432               73.639992  \nFord High School               79.299014               73.804308  "
     },
     "execution_count": 17,
     "metadata": {},
     "output_type": "execute_result"
    }
   ],
   "source": [
    "bottom_schools = schools_summary.sort_values('% Overall Passing Rate', ascending=True)\n",
    "\n",
    "bottom_schools['Total School Budget'] = schools_summary['Total School Budget'].map(\"${:,.2f}\".format)\n",
    "bottom_schools['Per Student Budget'] = schools_summary['Per Student Budget'].map(\"${:,.2f}\".format)\n",
    "\n",
    "bottom_schools.head(5)\n"
   ]
  },
  {
   "cell_type": "code",
   "execution_count": 18,
   "metadata": {},
   "outputs": [],
   "source": [
    "# Create a table that lists the average Reading Score \n",
    "# for students of each grade level (9th, 10th, 11th, 12th)\n",
    "# at each school.\n",
    "grades = sorted(list(school_data_complete['grade'].unique()),key=lambda x: int( x.split('th')[0] ))"
   ]
  },
  {
   "cell_type": "markdown",
   "execution_count": null,
   "metadata": {},
   "outputs": [],
   "source": [
    "## Math Scores by Grade"
   ]
  },
  {
   "cell_type": "code",
   "execution_count": 19,
   "metadata": {},
   "outputs": [
    {
     "data": {
      "text/html": "<div>\n<style scoped>\n    .dataframe tbody tr th:only-of-type {\n        vertical-align: middle;\n    }\n\n    .dataframe tbody tr th {\n        vertical-align: top;\n    }\n\n    .dataframe thead th {\n        text-align: right;\n    }\n</style>\n<table border=\"1\" class=\"dataframe\">\n  <thead>\n    <tr style=\"text-align: right;\">\n      <th></th>\n      <th>9th</th>\n      <th>10th</th>\n      <th>11th</th>\n      <th>12th</th>\n    </tr>\n  </thead>\n  <tbody>\n    <tr>\n      <th>Bailey High School</th>\n      <td>77.083676</td>\n      <td>76.996772</td>\n      <td>77.515588</td>\n      <td>76.492218</td>\n    </tr>\n    <tr>\n      <th>Cabrera High School</th>\n      <td>83.094697</td>\n      <td>83.154506</td>\n      <td>82.765560</td>\n      <td>83.277487</td>\n    </tr>\n    <tr>\n      <th>Figueroa High School</th>\n      <td>76.403037</td>\n      <td>76.539974</td>\n      <td>76.884344</td>\n      <td>77.151369</td>\n    </tr>\n    <tr>\n      <th>Ford High School</th>\n      <td>77.361345</td>\n      <td>77.672316</td>\n      <td>76.918058</td>\n      <td>76.179963</td>\n    </tr>\n    <tr>\n      <th>Griffin High School</th>\n      <td>82.044010</td>\n      <td>84.229064</td>\n      <td>83.842105</td>\n      <td>83.356164</td>\n    </tr>\n    <tr>\n      <th>Hernandez High School</th>\n      <td>77.438495</td>\n      <td>77.337408</td>\n      <td>77.136029</td>\n      <td>77.186567</td>\n    </tr>\n    <tr>\n      <th>Holden High School</th>\n      <td>83.787402</td>\n      <td>83.429825</td>\n      <td>85.000000</td>\n      <td>82.855422</td>\n    </tr>\n    <tr>\n      <th>Huang High School</th>\n      <td>77.027251</td>\n      <td>75.908735</td>\n      <td>76.446602</td>\n      <td>77.225641</td>\n    </tr>\n    <tr>\n      <th>Johnson High School</th>\n      <td>77.187857</td>\n      <td>76.691117</td>\n      <td>77.491653</td>\n      <td>76.863248</td>\n    </tr>\n    <tr>\n      <th>Pena High School</th>\n      <td>83.625455</td>\n      <td>83.372000</td>\n      <td>84.328125</td>\n      <td>84.121547</td>\n    </tr>\n    <tr>\n      <th>Rodriguez High School</th>\n      <td>76.859966</td>\n      <td>76.612500</td>\n      <td>76.395626</td>\n      <td>77.690748</td>\n    </tr>\n    <tr>\n      <th>Shelton High School</th>\n      <td>83.420755</td>\n      <td>82.917411</td>\n      <td>83.383495</td>\n      <td>83.778976</td>\n    </tr>\n    <tr>\n      <th>Thomas High School</th>\n      <td>83.590022</td>\n      <td>83.087886</td>\n      <td>83.498795</td>\n      <td>83.497041</td>\n    </tr>\n    <tr>\n      <th>Wilson High School</th>\n      <td>83.085578</td>\n      <td>83.724422</td>\n      <td>83.195326</td>\n      <td>83.035794</td>\n    </tr>\n    <tr>\n      <th>Wright High School</th>\n      <td>83.264706</td>\n      <td>84.010288</td>\n      <td>83.836782</td>\n      <td>83.644986</td>\n    </tr>\n  </tbody>\n</table>\n</div>",
      "text/plain": "                             9th       10th       11th       12th\nBailey High School     77.083676  76.996772  77.515588  76.492218\nCabrera High School    83.094697  83.154506  82.765560  83.277487\nFigueroa High School   76.403037  76.539974  76.884344  77.151369\nFord High School       77.361345  77.672316  76.918058  76.179963\nGriffin High School    82.044010  84.229064  83.842105  83.356164\nHernandez High School  77.438495  77.337408  77.136029  77.186567\nHolden High School     83.787402  83.429825  85.000000  82.855422\nHuang High School      77.027251  75.908735  76.446602  77.225641\nJohnson High School    77.187857  76.691117  77.491653  76.863248\nPena High School       83.625455  83.372000  84.328125  84.121547\nRodriguez High School  76.859966  76.612500  76.395626  77.690748\nShelton High School    83.420755  82.917411  83.383495  83.778976\nThomas High School     83.590022  83.087886  83.498795  83.497041\nWilson High School     83.085578  83.724422  83.195326  83.035794\nWright High School     83.264706  84.010288  83.836782  83.644986"
     },
     "execution_count": 19,
     "metadata": {},
     "output_type": "execute_result"
    }
   ],
   "source": [
    "math_by_grade = pd.DataFrame(index=list_of_schools)\n",
    "\n",
    "for grade in grades:\n",
    "    math_by_grade[grade] = school_data_complete[school_data_complete['grade'] == grade].groupby('school_name')['math_score'].mean()\n",
    "\n",
    "math_by_grade = math_by_grade.sort_index()\n",
    "\n",
    "math_by_grade"
   ]
  },
  {
   "cell_type": "markdown",
   "execution_count": null,
   "metadata": {},
   "outputs": [],
   "source": [
    "## Reading Score by Grade"
   ]
  },
  {
   "cell_type": "code",
   "execution_count": 20,
   "metadata": {},
   "outputs": [
    {
     "data": {
      "text/html": "<div>\n<style scoped>\n    .dataframe tbody tr th:only-of-type {\n        vertical-align: middle;\n    }\n\n    .dataframe tbody tr th {\n        vertical-align: top;\n    }\n\n    .dataframe thead th {\n        text-align: right;\n    }\n</style>\n<table border=\"1\" class=\"dataframe\">\n  <thead>\n    <tr style=\"text-align: right;\">\n      <th></th>\n      <th>9th</th>\n      <th>10th</th>\n      <th>11th</th>\n      <th>12th</th>\n    </tr>\n  </thead>\n  <tbody>\n    <tr>\n      <th>Bailey High School</th>\n      <td>81.303155</td>\n      <td>80.907183</td>\n      <td>80.945643</td>\n      <td>80.912451</td>\n    </tr>\n    <tr>\n      <th>Cabrera High School</th>\n      <td>83.676136</td>\n      <td>84.253219</td>\n      <td>83.788382</td>\n      <td>84.287958</td>\n    </tr>\n    <tr>\n      <th>Figueroa High School</th>\n      <td>81.198598</td>\n      <td>81.408912</td>\n      <td>80.640339</td>\n      <td>81.384863</td>\n    </tr>\n    <tr>\n      <th>Ford High School</th>\n      <td>80.632653</td>\n      <td>81.262712</td>\n      <td>80.403642</td>\n      <td>80.662338</td>\n    </tr>\n    <tr>\n      <th>Griffin High School</th>\n      <td>83.369193</td>\n      <td>83.706897</td>\n      <td>84.288089</td>\n      <td>84.013699</td>\n    </tr>\n    <tr>\n      <th>Hernandez High School</th>\n      <td>80.866860</td>\n      <td>80.660147</td>\n      <td>81.396140</td>\n      <td>80.857143</td>\n    </tr>\n    <tr>\n      <th>Holden High School</th>\n      <td>83.677165</td>\n      <td>83.324561</td>\n      <td>83.815534</td>\n      <td>84.698795</td>\n    </tr>\n    <tr>\n      <th>Huang High School</th>\n      <td>81.290284</td>\n      <td>81.512386</td>\n      <td>81.417476</td>\n      <td>80.305983</td>\n    </tr>\n    <tr>\n      <th>Johnson High School</th>\n      <td>81.260714</td>\n      <td>80.773431</td>\n      <td>80.616027</td>\n      <td>81.227564</td>\n    </tr>\n    <tr>\n      <th>Pena High School</th>\n      <td>83.807273</td>\n      <td>83.612000</td>\n      <td>84.335938</td>\n      <td>84.591160</td>\n    </tr>\n    <tr>\n      <th>Rodriguez High School</th>\n      <td>80.993127</td>\n      <td>80.629808</td>\n      <td>80.864811</td>\n      <td>80.376426</td>\n    </tr>\n    <tr>\n      <th>Shelton High School</th>\n      <td>84.122642</td>\n      <td>83.441964</td>\n      <td>84.373786</td>\n      <td>82.781671</td>\n    </tr>\n    <tr>\n      <th>Thomas High School</th>\n      <td>83.728850</td>\n      <td>84.254157</td>\n      <td>83.585542</td>\n      <td>83.831361</td>\n    </tr>\n    <tr>\n      <th>Wilson High School</th>\n      <td>83.939778</td>\n      <td>84.021452</td>\n      <td>83.764608</td>\n      <td>84.317673</td>\n    </tr>\n    <tr>\n      <th>Wright High School</th>\n      <td>83.833333</td>\n      <td>83.812757</td>\n      <td>84.156322</td>\n      <td>84.073171</td>\n    </tr>\n  </tbody>\n</table>\n</div>",
      "text/plain": "                             9th       10th       11th       12th\nBailey High School     81.303155  80.907183  80.945643  80.912451\nCabrera High School    83.676136  84.253219  83.788382  84.287958\nFigueroa High School   81.198598  81.408912  80.640339  81.384863\nFord High School       80.632653  81.262712  80.403642  80.662338\nGriffin High School    83.369193  83.706897  84.288089  84.013699\nHernandez High School  80.866860  80.660147  81.396140  80.857143\nHolden High School     83.677165  83.324561  83.815534  84.698795\nHuang High School      81.290284  81.512386  81.417476  80.305983\nJohnson High School    81.260714  80.773431  80.616027  81.227564\nPena High School       83.807273  83.612000  84.335938  84.591160\nRodriguez High School  80.993127  80.629808  80.864811  80.376426\nShelton High School    84.122642  83.441964  84.373786  82.781671\nThomas High School     83.728850  84.254157  83.585542  83.831361\nWilson High School     83.939778  84.021452  83.764608  84.317673\nWright High School     83.833333  83.812757  84.156322  84.073171"
     },
     "execution_count": 20,
     "metadata": {},
     "output_type": "execute_result"
    }
   ],
   "source": [
    "read_by_grade = pd.DataFrame(index=list_of_schools)\n",
    "\n",
    "for grade in grades:\n",
    "    read_by_grade[grade] = school_data_complete[school_data_complete['grade'] == grade].groupby('school_name')['reading_score'].mean()\n",
    "\n",
    "read_by_grade = read_by_grade.sort_index()\n",
    "\n",
    "read_by_grade"
   ]
  },
  {
   "cell_type": "markdown",
   "execution_count": null,
   "metadata": {},
   "outputs": [],
   "source": [
    "## Scores by School Spending\n",
    "* Create a table that breaks down school performances based on average Spending Ranges (Per Student). Use 4 reasonable bins to group school spending. Include in the table each of the following:\n",
    "  * Average Math Score\n",
    "  * Average Reading Score\n",
    "  * % Passing Math\n",
    "  * % Passing Reading\n",
    "  * Overall Passing Rate (Average of the above two)"
   ]
  },
  {
   "cell_type": "code",
   "execution_count": 21,
   "metadata": {},
   "outputs": [],
   "source": [
    "# Create a table that breaks down school performances based on\n",
    "# average Spending Ranges (Per Student). Use 4 reasonable bins \n",
    "# to group school spending.\n",
    "cols = [\n",
    "    'Average Math Score',\n",
    "    'Average Reading Score',\n",
    "    '% Passing Math',\n",
    "    '% Passing Reading',\n",
    "    '% Overall Passing Rate'\n",
    "]\n",
    "\n",
    "schools_spending = pd.DataFrame()\n",
    "\n",
    "spending_bins = [0, 585, 615, 645, 675]\n",
    "group_names = ['<$585', '$585-615', '$615-645', '$645-675']"
   ]
  },
  {
   "cell_type": "code",
   "execution_count": 23,
   "metadata": {},
   "outputs": [],
   "source": [
    "# Place the data series into a new column inside of the DataFrame\n",
    "labels = [\n",
    "    'School Type',\n",
    "    'Total Students',\n",
    "    'Total School Budget',\n",
    "    'Per Student Budget',\n",
    "    'Average Math Score',\n",
    "    'Average Reading Score',\n",
    "    '% Passing Math',\n",
    "    '% Passing Reading',\n",
    "    '% Overall Passing Rate'\n",
    "]\n",
    "\n",
    "by_school = pd.DataFrame()\n",
    "\n",
    "spending_bins = [0, 585, 615, 645, 675]\n",
    "group_names = ['<$585', '$585-615', '$615-645', '$645-675']\n",
    "\n"
   ]
  },
  {
   "cell_type": "markdown",
   "metadata": {},
   "source": [
    "## Scores by School Size\n",
    "* Perform the same operations as above, based on school size."
   ]
  },
  {
   "cell_type": "code",
   "execution_count": null,
   "metadata": {},
   "outputs": [],
   "source": [
    "# Sample bins. Feel free to create your own bins.\n",
    "size_bins = [0, 1000, 2000, 5000]\n",
    "group_names = [\"Small (<1000)\", \"Medium (1000-2000)\", \"Large (2000-5000)\"]"
   ]
  },
  {
   "cell_type": "code",
   "execution_count": null,
   "metadata": {},
   "outputs": [],
   "source": []
  },
  {
   "cell_type": "markdown",
   "metadata": {},
   "source": [
    "## Scores by School Type\n",
    "* Perform the same operations as above, based on school type."
   ]
  },
  {
   "cell_type": "code",
   "execution_count": null,
   "metadata": {},
   "outputs": [],
   "source": []
  }
 ]
}